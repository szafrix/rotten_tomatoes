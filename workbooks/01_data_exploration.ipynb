{
 "cells": [
  {
   "cell_type": "code",
   "execution_count": 1,
   "metadata": {},
   "outputs": [
    {
     "name": "stderr",
     "output_type": "stream",
     "text": [
      "/home/bszafranski/projects/private/rotten_tomatoes/.venv/lib/python3.11/site-packages/tqdm/auto.py:21: TqdmWarning: IProgress not found. Please update jupyter and ipywidgets. See https://ipywidgets.readthedocs.io/en/stable/user_install.html\n",
      "  from .autonotebook import tqdm as notebook_tqdm\n"
     ]
    }
   ],
   "source": [
    "from datasets import load_dataset\n",
    "import matplotlib.pyplot as plt\n",
    "from langid.langid import LanguageIdentifier, model\n",
    "from IPython.display import clear_output\n",
    "from time import sleep\n",
    "from transformers import pipeline"
   ]
  },
  {
   "cell_type": "code",
   "execution_count": 2,
   "metadata": {},
   "outputs": [],
   "source": [
    "ds = load_dataset(\"rotten_tomatoes\")"
   ]
  },
  {
   "cell_type": "code",
   "execution_count": 3,
   "metadata": {},
   "outputs": [
    {
     "name": "stderr",
     "output_type": "stream",
     "text": [
      "Saving the dataset (1/1 shards): 100%|██████████| 8530/8530 [00:00<00:00, 540632.14 examples/s]\n",
      "Saving the dataset (1/1 shards): 100%|██████████| 1066/1066 [00:00<00:00, 171873.92 examples/s]\n",
      "Saving the dataset (1/1 shards): 100%|██████████| 1066/1066 [00:00<00:00, 196239.82 examples/s]\n"
     ]
    }
   ],
   "source": [
    "ds.save_to_disk(\"dupa\")"
   ]
  },
  {
   "cell_type": "markdown",
   "metadata": {},
   "source": [
    "# Data validation (using all splits)"
   ]
  },
  {
   "cell_type": "code",
   "execution_count": 6,
   "metadata": {},
   "outputs": [],
   "source": []
  },
  {
   "cell_type": "code",
   "execution_count": 7,
   "metadata": {},
   "outputs": [
    {
     "data": {
      "text/plain": [
       "DatasetDict({\n",
       "    train: Dataset({\n",
       "        features: ['text', 'label'],\n",
       "        num_rows: 8530\n",
       "    })\n",
       "    validation: Dataset({\n",
       "        features: ['text', 'label'],\n",
       "        num_rows: 1066\n",
       "    })\n",
       "    test: Dataset({\n",
       "        features: ['text', 'label'],\n",
       "        num_rows: 1066\n",
       "    })\n",
       "})"
      ]
     },
     "execution_count": 7,
     "metadata": {},
     "output_type": "execute_result"
    }
   ],
   "source": [
    "DatasetDict.load_from_disk(\"dupa\")"
   ]
  },
  {
   "cell_type": "code",
   "execution_count": 3,
   "metadata": {},
   "outputs": [
    {
     "data": {
      "text/plain": [
       "{0, 1}"
      ]
     },
     "execution_count": 3,
     "metadata": {},
     "output_type": "execute_result"
    }
   ],
   "source": [
    "set(ds['train']['label'])"
   ]
  },
  {
   "cell_type": "code",
   "execution_count": null,
   "metadata": {},
   "outputs": [
    {
     "name": "stdout",
     "output_type": "stream",
     "text": [
      "distilbert says negative, dataset says positive\n",
      "some sentences are definitely 'one fly in the oinment' type of situation, other are hard to assess, there are no blatant mistakes visible\n"
     ]
    },
    {
     "data": {
      "text/plain": [
       "array([\"the paradiso's rusted-out ruin and ultimate collapse during the film's final ( restored ) third\\x85emotionally belittle a cinema classic . sometimes shorter is better .\",\n",
       "       'baran is shockingly devoid of your typical majid majidi shoe-loving , crippled children .',\n",
       "       \"' . . . the film's considered approach to its subject matter is too calm and thoughtful for agitprop , and the thinness of its characterizations makes it a failure as straight drama . '\",\n",
       "       'solondz is so intent on hammering home his message that he forgets to make it entertaining .',\n",
       "       'just another fish-out-of-water story that barely stays afloat .',\n",
       "       \"it's a strange film , one that was hard for me to warm up to .\",\n",
       "       'a decided lack of spontaneity in its execution and a dearth of real poignancy in its epiphanies .',\n",
       "       \"the film doesn't sustain its initial promise with a jarring , new-agey tone creeping into the second half\",\n",
       "       \"for a film that's being advertised as a comedy , sweet home alabama isn't as funny as you'd hoped . for a film that's being advertised as a comedy , sweet home alabama isn't as funny as you'd hoped .\",\n",
       "       'even bigger and more ambitious than the first installment , spy kids 2 looks as if it were made by a highly gifted 12-year-old instead of a grown man .'],\n",
       "      dtype=object)"
      ]
     },
     "metadata": {},
     "output_type": "display_data"
    }
   ],
   "source": [
    "print(\"distilbert says negative, dataset says positive\")\n",
    "print(\"some sentences are definitely 'one fly in the oinment' type of situation, other are hard to assess, there are no blatant mistakes visible\")\n",
    "diffs_in_labels[diffs_in_labels[\"distilbert_label\"]==0].sort_values(by='distilbert_score', ascending=False).head(10)[\"text\"].values"
   ]
  },
  {
   "cell_type": "code",
   "execution_count": 4,
   "metadata": {},
   "outputs": [],
   "source": [
    "ds.set_format(type=\"pandas\")"
   ]
  },
  {
   "cell_type": "code",
   "execution_count": 5,
   "metadata": {},
   "outputs": [],
   "source": [
    "train_df = ds[\"train\"][:]\n",
    "validation_df = ds[\"validation\"][:]\n",
    "test_df = ds[\"test\"][:]"
   ]
  },
  {
   "cell_type": "code",
   "execution_count": 6,
   "metadata": {},
   "outputs": [],
   "source": [
    "names = [\"train set\", \"validation set\", \"test set\"]\n",
    "dfs = [train_df, validation_df, test_df]"
   ]
  },
  {
   "cell_type": "code",
   "execution_count": 7,
   "metadata": {},
   "outputs": [
    {
     "name": "stdout",
     "output_type": "stream",
     "text": [
      "train set size: 8530\n",
      "classes in train set: [1 0]\n",
      "Missing values in train set: {'text': 0, 'label': 0}\n",
      "Col types of train set: {'text': dtype('O'), 'label': dtype('int64')}\n",
      "Make sure all text fields are indeed string for train set: [<class 'str'>]\n",
      "\n",
      "\n",
      "validation set size: 1066\n",
      "classes in validation set: [1 0]\n",
      "Missing values in validation set: {'text': 0, 'label': 0}\n",
      "Col types of validation set: {'text': dtype('O'), 'label': dtype('int64')}\n",
      "Make sure all text fields are indeed string for validation set: [<class 'str'>]\n",
      "\n",
      "\n",
      "test set size: 1066\n",
      "classes in test set: [1 0]\n",
      "Missing values in test set: {'text': 0, 'label': 0}\n",
      "Col types of test set: {'text': dtype('O'), 'label': dtype('int64')}\n",
      "Make sure all text fields are indeed string for test set: [<class 'str'>]\n",
      "\n",
      "\n"
     ]
    }
   ],
   "source": [
    "for name, df in zip(names, dfs):\n",
    "    print(f\"{name} size:\", len(df))\n",
    "    print(f\"classes in {name}:\", df['label'].unique())\n",
    "    print(f\"Missing values in {name}:\", df.isna().sum().to_dict())\n",
    "    print(f\"Col types of {name}:\", df.dtypes.to_dict())\n",
    "    print(f\"Make sure all text fields are indeed string for {name}:\", df[\"text\"].apply(type).unique())\n",
    "    print(\"\\n\")"
   ]
  },
  {
   "cell_type": "markdown",
   "metadata": {},
   "source": [
    "# Data exploration (using train set)"
   ]
  },
  {
   "cell_type": "markdown",
   "metadata": {},
   "source": [
    "### y"
   ]
  },
  {
   "cell_type": "code",
   "execution_count": 8,
   "metadata": {},
   "outputs": [
    {
     "data": {
      "image/png": "[encoded data removed]",
      "text/plain": [
       "<Figure size 640x480 with 1 Axes>"
      ]
     },
     "metadata": {},
     "output_type": "display_data"
    }
   ],
   "source": [
    "fig, ax = plt.subplots()\n",
    "ax.bar(x=train_df[\"label\"].value_counts().index, height=train_df[\"label\"].value_counts().values)\n",
    "ax.bar_label(ax.containers[0])\n",
    "ax.set_xticks([0,1])\n",
    "ax.set_xlabel(\"label\")\n",
    "ax.set_ylabel(\"N\")\n",
    "_ = fig.suptitle(\"Label distribution in train set\\ndataset is balanced\")"
   ]
  },
  {
   "cell_type": "markdown",
   "metadata": {},
   "source": [
    "### x"
   ]
  },
  {
   "cell_type": "code",
   "execution_count": 9,
   "metadata": {},
   "outputs": [],
   "source": [
    "train_df[\"len\"] = train_df[\"text\"].apply(len)"
   ]
  },
  {
   "cell_type": "code",
   "execution_count": 10,
   "metadata": {},
   "outputs": [
    {
     "data": {
      "text/html": [
       "<div>\n",
       "<style scoped>\n",
       "    .dataframe tbody tr th:only-of-type {\n",
       "        vertical-align: middle;\n",
       "    }\n",
       "\n",
       "    .dataframe tbody tr th {\n",
       "        vertical-align: top;\n",
       "    }\n",
       "\n",
       "    .dataframe thead th {\n",
       "        text-align: right;\n",
       "    }\n",
       "</style>\n",
       "<table border=\"1\" class=\"dataframe\">\n",
       "  <thead>\n",
       "    <tr style=\"text-align: right;\">\n",
       "      <th></th>\n",
       "      <th>count</th>\n",
       "      <th>mean</th>\n",
       "      <th>std</th>\n",
       "      <th>min</th>\n",
       "      <th>1%</th>\n",
       "      <th>25%</th>\n",
       "      <th>50%</th>\n",
       "      <th>75%</th>\n",
       "      <th>99%</th>\n",
       "      <th>max</th>\n",
       "    </tr>\n",
       "  </thead>\n",
       "  <tbody>\n",
       "    <tr>\n",
       "      <th>len</th>\n",
       "      <td>8530.0</td>\n",
       "      <td>113.97163</td>\n",
       "      <td>51.052231</td>\n",
       "      <td>4.0</td>\n",
       "      <td>21.0</td>\n",
       "      <td>76.0</td>\n",
       "      <td>111.0</td>\n",
       "      <td>149.0</td>\n",
       "      <td>241.0</td>\n",
       "      <td>267.0</td>\n",
       "    </tr>\n",
       "  </tbody>\n",
       "</table>\n",
       "</div>"
      ],
      "text/plain": [
       "      count       mean        std  min    1%   25%    50%    75%    99%    max\n",
       "len  8530.0  113.97163  51.052231  4.0  21.0  76.0  111.0  149.0  241.0  267.0"
      ]
     },
     "metadata": {},
     "output_type": "display_data"
    },
    {
     "data": {
      "text/plain": [
       "Text(0.5, 0.98, 'Review length distribution')"
      ]
     },
     "execution_count": 10,
     "metadata": {},
     "output_type": "execute_result"
    },
    {
     "data": {
      "image/png": "[encoded data removed]",
      "text/plain": [
       "<Figure size 640x480 with 1 Axes>"
      ]
     },
     "metadata": {},
     "output_type": "display_data"
    }
   ],
   "source": [
    "display(train_df[\"len\"].describe(percentiles=[0.01, 0.25, 0.5, 0.75, 0.99]).to_frame().T)\n",
    "fig, ax = plt.subplots()\n",
    "_ = ax.hist(train_df[\"len\"])\n",
    "ax.set_xlabel(\"length (in chars)\")\n",
    "ax.set_ylabel(\"N\")\n",
    "fig.suptitle(\"Review length distribution\")"
   ]
  },
  {
   "cell_type": "code",
   "execution_count": 11,
   "metadata": {},
   "outputs": [
    {
     "data": {
      "text/html": [
       "<div>\n",
       "<style scoped>\n",
       "    .dataframe tbody tr th:only-of-type {\n",
       "        vertical-align: middle;\n",
       "    }\n",
       "\n",
       "    .dataframe tbody tr th {\n",
       "        vertical-align: top;\n",
       "    }\n",
       "\n",
       "    .dataframe thead th {\n",
       "        text-align: right;\n",
       "    }\n",
       "</style>\n",
       "<table border=\"1\" class=\"dataframe\">\n",
       "  <thead>\n",
       "    <tr style=\"text-align: right;\">\n",
       "      <th></th>\n",
       "      <th>text</th>\n",
       "      <th>label</th>\n",
       "      <th>len</th>\n",
       "    </tr>\n",
       "  </thead>\n",
       "  <tbody>\n",
       "    <tr>\n",
       "      <th>6851</th>\n",
       "      <td>eh .</td>\n",
       "      <td>0</td>\n",
       "      <td>4</td>\n",
       "    </tr>\n",
       "    <tr>\n",
       "      <th>4852</th>\n",
       "      <td>obvious</td>\n",
       "      <td>0</td>\n",
       "      <td>7</td>\n",
       "    </tr>\n",
       "    <tr>\n",
       "      <th>5483</th>\n",
       "      <td>horrible</td>\n",
       "      <td>0</td>\n",
       "      <td>8</td>\n",
       "    </tr>\n",
       "    <tr>\n",
       "      <th>2517</th>\n",
       "      <td>touché !</td>\n",
       "      <td>1</td>\n",
       "      <td>8</td>\n",
       "    </tr>\n",
       "    <tr>\n",
       "      <th>6688</th>\n",
       "      <td>shallow .</td>\n",
       "      <td>0</td>\n",
       "      <td>9</td>\n",
       "    </tr>\n",
       "    <tr>\n",
       "      <th>7592</th>\n",
       "      <td>[a] mess .</td>\n",
       "      <td>0</td>\n",
       "      <td>10</td>\n",
       "    </tr>\n",
       "    <tr>\n",
       "      <th>3971</th>\n",
       "      <td>fantastic !</td>\n",
       "      <td>1</td>\n",
       "      <td>11</td>\n",
       "    </tr>\n",
       "    <tr>\n",
       "      <th>4658</th>\n",
       "      <td>execrable .</td>\n",
       "      <td>0</td>\n",
       "      <td>11</td>\n",
       "    </tr>\n",
       "    <tr>\n",
       "      <th>3705</th>\n",
       "      <td>a fun ride .</td>\n",
       "      <td>1</td>\n",
       "      <td>12</td>\n",
       "    </tr>\n",
       "    <tr>\n",
       "      <th>2586</th>\n",
       "      <td>refreshing .</td>\n",
       "      <td>1</td>\n",
       "      <td>12</td>\n",
       "    </tr>\n",
       "  </tbody>\n",
       "</table>\n",
       "</div>"
      ],
      "text/plain": [
       "              text  label  len\n",
       "6851          eh .      0    4\n",
       "4852       obvious      0    7\n",
       "5483      horrible      0    8\n",
       "2517      touché !      1    8\n",
       "6688     shallow .      0    9\n",
       "7592    [a] mess .      0   10\n",
       "3971   fantastic !      1   11\n",
       "4658   execrable .      0   11\n",
       "3705  a fun ride .      1   12\n",
       "2586  refreshing .      1   12"
      ]
     },
     "execution_count": 11,
     "metadata": {},
     "output_type": "execute_result"
    }
   ],
   "source": [
    "# sanity check on shortest reviews\n",
    "train_df.sort_values(by=\"len\").head(10)"
   ]
  },
  {
   "cell_type": "code",
   "execution_count": 12,
   "metadata": {},
   "outputs": [
    {
     "name": "stdout",
     "output_type": "stream",
     "text": [
      "even if the enticing prospect of a lot of nubile young actors in a film about campus depravity didn't fade amid the deliberate , tiresome ugliness , it would be rendered tedious by avary's failure to construct a story with even a trace of dramatic interest .\n",
      "------------------------------------------------------------\n",
      "a fine documentary can be distinguished from a mediocre one by the better film's ability to make its subject interesting to those who aren't part of its supposed target audience . judging by those standards , 'scratch' is a pretty decent little documentary .\n",
      "------------------------------------------------------------\n",
      "sitting in the third row of the imax cinema at sydney's darling harbour , but i sometimes felt as though i was in the tiny two seater plane that carried the giant camera around australia , sweeping and gliding , banking and hovering over some of the most not\n",
      "------------------------------------------------------------\n",
      "notwithstanding my problem with the movie's final half hour , i'm going to recommend secretary , based on the wonderful acting clinic put on by spader and gyllenhaal , and also the unique way shainberg goes about telling what at heart is a sweet little girl-\n",
      "------------------------------------------------------------\n",
      "filmmakers dana janklowicz-mann and amir mann area headed east , far east , in retelling a historically significant , and personal , episode detailing how one international city welcomed tens of thousands of german jewish refugees while the world's democracie\n",
      "------------------------------------------------------------\n",
      ". . . a rich and intelligent film that uses its pulpy core conceit to probe questions of attraction and interdependence and how the heart accomodates practical needs . it is an unstinting look at a collaboration between damaged people that may or may not qual\n",
      "------------------------------------------------------------\n",
      "i stopped thinking about how good it all was , and started doing nothing but reacting to it - feeling a part of its grand locations , thinking urgently as the protagonists struggled , feeling at the mercy of its inventiveness , gasping at its visual delights .\n",
      "------------------------------------------------------------\n",
      "ultimately , in the history of the academy , people may be wondering what all that jazz was about \" chicago \" in 2002 . zellweger's whiny pouty-lipped poof faced and spindly attempt at playing an ingenue makes her nomination as best actress even more of a an a\n",
      "------------------------------------------------------------\n",
      "who are 'they' ? well , they're 'they' . they're the unnamed , easily substitutable forces that serve as whatever terror the heroes of horror movies try to avoid . they exist for hushed lines like \" they're back ! \" , \" they're out there ! \" and \" they're coming ! \"\n",
      "------------------------------------------------------------\n",
      ". . . spiced with humor ( 'i speak fluent flatula , ' advises denlopp after a rather , er , bubbly exchange with an alien deckhand ) and witty updatings ( silver's parrot has been replaced with morph , a cute alien creature who mimics everyone and everything around )\n"
     ]
    }
   ],
   "source": [
    "# sanity check on longest reviews\n",
    "print((\"\\n\"+\"--\"*30+\"\\n\").join(train_df.sort_values(by=\"len\").tail(10)[\"text\"].values))"
   ]
  },
  {
   "cell_type": "code",
   "execution_count": 44,
   "metadata": {},
   "outputs": [],
   "source": [
    "identifier = LanguageIdentifier.from_modelstring(model, norm_probs=True)\n",
    "train_df[\"lang\"] = train_df[\"text\"].apply(identifier.classify)\n",
    "train_df[\"lang_id\"] = train_df[\"lang\"].apply(lambda x: x[0])\n",
    "train_df[\"lang_proba\"] = train_df[\"lang\"].apply(lambda x: x[1])\n",
    "train_df[\"lang_id\"].value_counts()"
   ]
  },
  {
   "cell_type": "code",
   "execution_count": null,
   "metadata": {},
   "outputs": [],
   "source": [
    "print(\"manually check correctness\")\n",
    "train_df[\"is_eng\"] = 1\n",
    "for idx in train_df[train_df[\"lang_id\"]!=\"en\"].index:\n",
    "    sleep(1)\n",
    "    print(train_df.loc[idx, \"text\"])\n",
    "    verdict = int(input(\"english?\"))\n",
    "    train_df.loc[idx, \"is_eng\"] = verdict\n",
    "    sleep(1)\n",
    "    clear_output()"
   ]
  },
  {
   "cell_type": "code",
   "execution_count": 111,
   "metadata": {},
   "outputs": [
    {
     "name": "stdout",
     "output_type": "stream",
     "text": [
      "quickly glimpse through 30 examples classified as english that the model was least sure about to check for false positives\n",
      "it looks alright\n"
     ]
    },
    {
     "data": {
      "text/html": [
       "<div>\n",
       "<style scoped>\n",
       "    .dataframe tbody tr th:only-of-type {\n",
       "        vertical-align: middle;\n",
       "    }\n",
       "\n",
       "    .dataframe tbody tr th {\n",
       "        vertical-align: top;\n",
       "    }\n",
       "\n",
       "    .dataframe thead th {\n",
       "        text-align: right;\n",
       "    }\n",
       "</style>\n",
       "<table border=\"1\" class=\"dataframe\">\n",
       "  <thead>\n",
       "    <tr style=\"text-align: right;\">\n",
       "      <th></th>\n",
       "      <th>text</th>\n",
       "      <th>label</th>\n",
       "      <th>len</th>\n",
       "      <th>lang</th>\n",
       "      <th>lang_id</th>\n",
       "      <th>lang_proba</th>\n",
       "      <th>is_eng</th>\n",
       "    </tr>\n",
       "  </thead>\n",
       "  <tbody>\n",
       "    <tr>\n",
       "      <th>4852</th>\n",
       "      <td>obvious</td>\n",
       "      <td>0</td>\n",
       "      <td>7</td>\n",
       "      <td>(en, 0.16946150595865334)</td>\n",
       "      <td>en</td>\n",
       "      <td>0.169462</td>\n",
       "      <td>1</td>\n",
       "    </tr>\n",
       "    <tr>\n",
       "      <th>921</th>\n",
       "      <td>a modest masterpiece .</td>\n",
       "      <td>1</td>\n",
       "      <td>22</td>\n",
       "      <td>(en, 0.16946150595865334)</td>\n",
       "      <td>en</td>\n",
       "      <td>0.169462</td>\n",
       "      <td>1</td>\n",
       "    </tr>\n",
       "    <tr>\n",
       "      <th>6851</th>\n",
       "      <td>eh .</td>\n",
       "      <td>0</td>\n",
       "      <td>4</td>\n",
       "      <td>(en, 0.16946150595865334)</td>\n",
       "      <td>en</td>\n",
       "      <td>0.169462</td>\n",
       "      <td>1</td>\n",
       "    </tr>\n",
       "    <tr>\n",
       "      <th>6588</th>\n",
       "      <td>feeble comedy .</td>\n",
       "      <td>0</td>\n",
       "      <td>15</td>\n",
       "      <td>(en, 0.16946150595865334)</td>\n",
       "      <td>en</td>\n",
       "      <td>0.169462</td>\n",
       "      <td>1</td>\n",
       "    </tr>\n",
       "    <tr>\n",
       "      <th>2730</th>\n",
       "      <td>morvern rocks .</td>\n",
       "      <td>1</td>\n",
       "      <td>15</td>\n",
       "      <td>(en, 0.16946150595865334)</td>\n",
       "      <td>en</td>\n",
       "      <td>0.169462</td>\n",
       "      <td>1</td>\n",
       "    </tr>\n",
       "    <tr>\n",
       "      <th>26</th>\n",
       "      <td>spiderman rocks</td>\n",
       "      <td>1</td>\n",
       "      <td>15</td>\n",
       "      <td>(en, 0.16946150595865334)</td>\n",
       "      <td>en</td>\n",
       "      <td>0.169462</td>\n",
       "      <td>1</td>\n",
       "    </tr>\n",
       "    <tr>\n",
       "      <th>1574</th>\n",
       "      <td>an absurdist spider web .</td>\n",
       "      <td>1</td>\n",
       "      <td>25</td>\n",
       "      <td>(en, 0.16946150595865334)</td>\n",
       "      <td>en</td>\n",
       "      <td>0.169462</td>\n",
       "      <td>1</td>\n",
       "    </tr>\n",
       "    <tr>\n",
       "      <th>5483</th>\n",
       "      <td>horrible</td>\n",
       "      <td>0</td>\n",
       "      <td>8</td>\n",
       "      <td>(en, 0.16946150595865334)</td>\n",
       "      <td>en</td>\n",
       "      <td>0.169462</td>\n",
       "      <td>1</td>\n",
       "    </tr>\n",
       "    <tr>\n",
       "      <th>485</th>\n",
       "      <td>never [sinks] into exploitation .</td>\n",
       "      <td>1</td>\n",
       "      <td>33</td>\n",
       "      <td>(en, 0.283319292683818)</td>\n",
       "      <td>en</td>\n",
       "      <td>0.283319</td>\n",
       "      <td>1</td>\n",
       "    </tr>\n",
       "    <tr>\n",
       "      <th>83</th>\n",
       "      <td>an imaginative comedy/thriller .</td>\n",
       "      <td>1</td>\n",
       "      <td>32</td>\n",
       "      <td>(en, 0.3177363858422182)</td>\n",
       "      <td>en</td>\n",
       "      <td>0.317736</td>\n",
       "      <td>1</td>\n",
       "    </tr>\n",
       "    <tr>\n",
       "      <th>8122</th>\n",
       "      <td>a horrible , 99-minute stink bomb .</td>\n",
       "      <td>0</td>\n",
       "      <td>35</td>\n",
       "      <td>(en, 0.3958723928063722)</td>\n",
       "      <td>en</td>\n",
       "      <td>0.395872</td>\n",
       "      <td>1</td>\n",
       "    </tr>\n",
       "    <tr>\n",
       "      <th>3260</th>\n",
       "      <td>good , solid storytelling .</td>\n",
       "      <td>1</td>\n",
       "      <td>27</td>\n",
       "      <td>(en, 0.4270439893669084)</td>\n",
       "      <td>en</td>\n",
       "      <td>0.427044</td>\n",
       "      <td>1</td>\n",
       "    </tr>\n",
       "    <tr>\n",
       "      <th>3487</th>\n",
       "      <td>harmless fun .</td>\n",
       "      <td>1</td>\n",
       "      <td>14</td>\n",
       "      <td>(en, 0.43804479982049055)</td>\n",
       "      <td>en</td>\n",
       "      <td>0.438045</td>\n",
       "      <td>1</td>\n",
       "    </tr>\n",
       "    <tr>\n",
       "      <th>2663</th>\n",
       "      <td>sean penn , you owe nicolas cage an apology .</td>\n",
       "      <td>1</td>\n",
       "      <td>45</td>\n",
       "      <td>(en, 0.45403096343508564)</td>\n",
       "      <td>en</td>\n",
       "      <td>0.454031</td>\n",
       "      <td>1</td>\n",
       "    </tr>\n",
       "    <tr>\n",
       "      <th>3865</th>\n",
       "      <td>weird . rewarding .</td>\n",
       "      <td>1</td>\n",
       "      <td>19</td>\n",
       "      <td>(en, 0.4574507095921651)</td>\n",
       "      <td>en</td>\n",
       "      <td>0.457451</td>\n",
       "      <td>1</td>\n",
       "    </tr>\n",
       "    <tr>\n",
       "      <th>2530</th>\n",
       "      <td>an impressive hybrid .</td>\n",
       "      <td>1</td>\n",
       "      <td>22</td>\n",
       "      <td>(en, 0.4686774364895063)</td>\n",
       "      <td>en</td>\n",
       "      <td>0.468677</td>\n",
       "      <td>1</td>\n",
       "    </tr>\n",
       "    <tr>\n",
       "      <th>7395</th>\n",
       "      <td>a lifetime movie about men .</td>\n",
       "      <td>0</td>\n",
       "      <td>28</td>\n",
       "      <td>(en, 0.47050217638370956)</td>\n",
       "      <td>en</td>\n",
       "      <td>0.470502</td>\n",
       "      <td>1</td>\n",
       "    </tr>\n",
       "    <tr>\n",
       "      <th>2983</th>\n",
       "      <td>an enjoyable experience .</td>\n",
       "      <td>1</td>\n",
       "      <td>25</td>\n",
       "      <td>(en, 0.47156142589592437)</td>\n",
       "      <td>en</td>\n",
       "      <td>0.471561</td>\n",
       "      <td>1</td>\n",
       "    </tr>\n",
       "    <tr>\n",
       "      <th>1831</th>\n",
       "      <td>a captivating new film .</td>\n",
       "      <td>1</td>\n",
       "      <td>24</td>\n",
       "      <td>(en, 0.5080630528208838)</td>\n",
       "      <td>en</td>\n",
       "      <td>0.508063</td>\n",
       "      <td>1</td>\n",
       "    </tr>\n",
       "    <tr>\n",
       "      <th>7548</th>\n",
       "      <td>an often unfunny romp .</td>\n",
       "      <td>0</td>\n",
       "      <td>23</td>\n",
       "      <td>(en, 0.5549762549063095)</td>\n",
       "      <td>en</td>\n",
       "      <td>0.554976</td>\n",
       "      <td>1</td>\n",
       "    </tr>\n",
       "    <tr>\n",
       "      <th>6991</th>\n",
       "      <td>after seeing swept away , i feel sorry for mad...</td>\n",
       "      <td>0</td>\n",
       "      <td>52</td>\n",
       "      <td>(en, 0.562376067361633)</td>\n",
       "      <td>en</td>\n",
       "      <td>0.562376</td>\n",
       "      <td>1</td>\n",
       "    </tr>\n",
       "    <tr>\n",
       "      <th>4708</th>\n",
       "      <td>absurdities and clichés accumulate like lint i...</td>\n",
       "      <td>0</td>\n",
       "      <td>67</td>\n",
       "      <td>(en, 0.5840079273928962)</td>\n",
       "      <td>en</td>\n",
       "      <td>0.584008</td>\n",
       "      <td>1</td>\n",
       "    </tr>\n",
       "    <tr>\n",
       "      <th>2940</th>\n",
       "      <td>a riveting documentary .</td>\n",
       "      <td>1</td>\n",
       "      <td>24</td>\n",
       "      <td>(en, 0.5920485261513225)</td>\n",
       "      <td>en</td>\n",
       "      <td>0.592049</td>\n",
       "      <td>1</td>\n",
       "    </tr>\n",
       "    <tr>\n",
       "      <th>2226</th>\n",
       "      <td>spare yet audacious . . .</td>\n",
       "      <td>1</td>\n",
       "      <td>25</td>\n",
       "      <td>(en, 0.6188291569349161)</td>\n",
       "      <td>en</td>\n",
       "      <td>0.618829</td>\n",
       "      <td>1</td>\n",
       "    </tr>\n",
       "    <tr>\n",
       "      <th>2539</th>\n",
       "      <td>pretty good little movie .</td>\n",
       "      <td>1</td>\n",
       "      <td>26</td>\n",
       "      <td>(en, 0.6459897295379721)</td>\n",
       "      <td>en</td>\n",
       "      <td>0.645990</td>\n",
       "      <td>1</td>\n",
       "    </tr>\n",
       "    <tr>\n",
       "      <th>3245</th>\n",
       "      <td>an asian neo-realist treasure .</td>\n",
       "      <td>1</td>\n",
       "      <td>31</td>\n",
       "      <td>(en, 0.6801811319596394)</td>\n",
       "      <td>en</td>\n",
       "      <td>0.680181</td>\n",
       "      <td>1</td>\n",
       "    </tr>\n",
       "    <tr>\n",
       "      <th>1355</th>\n",
       "      <td>a marvel like none you've seen .</td>\n",
       "      <td>1</td>\n",
       "      <td>32</td>\n",
       "      <td>(en, 0.7009125877777767)</td>\n",
       "      <td>en</td>\n",
       "      <td>0.700913</td>\n",
       "      <td>1</td>\n",
       "    </tr>\n",
       "    <tr>\n",
       "      <th>1736</th>\n",
       "      <td>one-of-a-kind near-masterpiece .</td>\n",
       "      <td>1</td>\n",
       "      <td>32</td>\n",
       "      <td>(en, 0.7014479695332139)</td>\n",
       "      <td>en</td>\n",
       "      <td>0.701448</td>\n",
       "      <td>1</td>\n",
       "    </tr>\n",
       "    <tr>\n",
       "      <th>7657</th>\n",
       "      <td>stay away . far away .</td>\n",
       "      <td>0</td>\n",
       "      <td>22</td>\n",
       "      <td>(en, 0.7138576332059631)</td>\n",
       "      <td>en</td>\n",
       "      <td>0.713858</td>\n",
       "      <td>1</td>\n",
       "    </tr>\n",
       "    <tr>\n",
       "      <th>7266</th>\n",
       "      <td>anemic , pretentious .</td>\n",
       "      <td>0</td>\n",
       "      <td>22</td>\n",
       "      <td>(en, 0.7141992427855375)</td>\n",
       "      <td>en</td>\n",
       "      <td>0.714199</td>\n",
       "      <td>1</td>\n",
       "    </tr>\n",
       "  </tbody>\n",
       "</table>\n",
       "</div>"
      ],
      "text/plain": [
       "                                                   text  label  len  \\\n",
       "4852                                            obvious      0    7   \n",
       "921                              a modest masterpiece .      1   22   \n",
       "6851                                               eh .      0    4   \n",
       "6588                                    feeble comedy .      0   15   \n",
       "2730                                    morvern rocks .      1   15   \n",
       "26                                      spiderman rocks      1   15   \n",
       "1574                          an absurdist spider web .      1   25   \n",
       "5483                                           horrible      0    8   \n",
       "485                   never [sinks] into exploitation .      1   33   \n",
       "83                     an imaginative comedy/thriller .      1   32   \n",
       "8122                a horrible , 99-minute stink bomb .      0   35   \n",
       "3260                        good , solid storytelling .      1   27   \n",
       "3487                                     harmless fun .      1   14   \n",
       "2663      sean penn , you owe nicolas cage an apology .      1   45   \n",
       "3865                                weird . rewarding .      1   19   \n",
       "2530                             an impressive hybrid .      1   22   \n",
       "7395                       a lifetime movie about men .      0   28   \n",
       "2983                          an enjoyable experience .      1   25   \n",
       "1831                           a captivating new film .      1   24   \n",
       "7548                            an often unfunny romp .      0   23   \n",
       "6991  after seeing swept away , i feel sorry for mad...      0   52   \n",
       "4708  absurdities and clichés accumulate like lint i...      0   67   \n",
       "2940                           a riveting documentary .      1   24   \n",
       "2226                          spare yet audacious . . .      1   25   \n",
       "2539                         pretty good little movie .      1   26   \n",
       "3245                    an asian neo-realist treasure .      1   31   \n",
       "1355                   a marvel like none you've seen .      1   32   \n",
       "1736                   one-of-a-kind near-masterpiece .      1   32   \n",
       "7657                             stay away . far away .      0   22   \n",
       "7266                             anemic , pretentious .      0   22   \n",
       "\n",
       "                           lang lang_id  lang_proba  is_eng  \n",
       "4852  (en, 0.16946150595865334)      en    0.169462       1  \n",
       "921   (en, 0.16946150595865334)      en    0.169462       1  \n",
       "6851  (en, 0.16946150595865334)      en    0.169462       1  \n",
       "6588  (en, 0.16946150595865334)      en    0.169462       1  \n",
       "2730  (en, 0.16946150595865334)      en    0.169462       1  \n",
       "26    (en, 0.16946150595865334)      en    0.169462       1  \n",
       "1574  (en, 0.16946150595865334)      en    0.169462       1  \n",
       "5483  (en, 0.16946150595865334)      en    0.169462       1  \n",
       "485     (en, 0.283319292683818)      en    0.283319       1  \n",
       "83     (en, 0.3177363858422182)      en    0.317736       1  \n",
       "8122   (en, 0.3958723928063722)      en    0.395872       1  \n",
       "3260   (en, 0.4270439893669084)      en    0.427044       1  \n",
       "3487  (en, 0.43804479982049055)      en    0.438045       1  \n",
       "2663  (en, 0.45403096343508564)      en    0.454031       1  \n",
       "3865   (en, 0.4574507095921651)      en    0.457451       1  \n",
       "2530   (en, 0.4686774364895063)      en    0.468677       1  \n",
       "7395  (en, 0.47050217638370956)      en    0.470502       1  \n",
       "2983  (en, 0.47156142589592437)      en    0.471561       1  \n",
       "1831   (en, 0.5080630528208838)      en    0.508063       1  \n",
       "7548   (en, 0.5549762549063095)      en    0.554976       1  \n",
       "6991    (en, 0.562376067361633)      en    0.562376       1  \n",
       "4708   (en, 0.5840079273928962)      en    0.584008       1  \n",
       "2940   (en, 0.5920485261513225)      en    0.592049       1  \n",
       "2226   (en, 0.6188291569349161)      en    0.618829       1  \n",
       "2539   (en, 0.6459897295379721)      en    0.645990       1  \n",
       "3245   (en, 0.6801811319596394)      en    0.680181       1  \n",
       "1355   (en, 0.7009125877777767)      en    0.700913       1  \n",
       "1736   (en, 0.7014479695332139)      en    0.701448       1  \n",
       "7657   (en, 0.7138576332059631)      en    0.713858       1  \n",
       "7266   (en, 0.7141992427855375)      en    0.714199       1  "
      ]
     },
     "execution_count": 111,
     "metadata": {},
     "output_type": "execute_result"
    }
   ],
   "source": [
    "print(\"quickly glimpse through 30 examples classified as english that the model was least sure about to check for false positives\")\n",
    "print(\"it looks alright\")\n",
    "train_df[train_df['lang_id']==\"en\"].sort_values(by='lang_proba').head(30)"
   ]
  },
  {
   "cell_type": "code",
   "execution_count": 91,
   "metadata": {},
   "outputs": [
    {
     "name": "stdout",
     "output_type": "stream",
     "text": [
      "we have identified 47 [0.55%] non-english examples\n"
     ]
    }
   ],
   "source": [
    "print(f'we have identified {sum(train_df[\"is_eng\"]==0)} [{round((1-train_df[\"is_eng\"].mean())*100, 2)}%] non-english examples')"
   ]
  },
  {
   "cell_type": "code",
   "execution_count": 102,
   "metadata": {},
   "outputs": [
    {
     "name": "stdout",
     "output_type": "stream",
     "text": [
      "out of them, 44 have probability of being non-engligh of (almost) 1\n"
     ]
    }
   ],
   "source": [
    "print(f'out of them, {(train_df[train_df[\"is_eng\"]==0][\"lang_proba\"].round(4)==1).sum()} have probability of being non-engligh of (almost) 1')\n",
    "# TODO: add transformer that checks the language and translates to english is conditions are not met"
   ]
  },
  {
   "cell_type": "code",
   "execution_count": 109,
   "metadata": {},
   "outputs": [
    {
     "name": "stdout",
     "output_type": "stream",
     "text": [
      "there are almost none uppercase chars - only 3 examples, all non english\n"
     ]
    },
    {
     "data": {
      "text/html": [
       "<div>\n",
       "<style scoped>\n",
       "    .dataframe tbody tr th:only-of-type {\n",
       "        vertical-align: middle;\n",
       "    }\n",
       "\n",
       "    .dataframe tbody tr th {\n",
       "        vertical-align: top;\n",
       "    }\n",
       "\n",
       "    .dataframe thead th {\n",
       "        text-align: right;\n",
       "    }\n",
       "</style>\n",
       "<table border=\"1\" class=\"dataframe\">\n",
       "  <thead>\n",
       "    <tr style=\"text-align: right;\">\n",
       "      <th></th>\n",
       "      <th>text</th>\n",
       "      <th>label</th>\n",
       "      <th>len</th>\n",
       "      <th>lang</th>\n",
       "      <th>lang_id</th>\n",
       "      <th>lang_proba</th>\n",
       "      <th>is_eng</th>\n",
       "    </tr>\n",
       "  </thead>\n",
       "  <tbody>\n",
       "    <tr>\n",
       "      <th>3297</th>\n",
       "      <td>o Último suspeito ganha força ao também funcio...</td>\n",
       "      <td>1</td>\n",
       "      <td>97</td>\n",
       "      <td>(pt, 1.0)</td>\n",
       "      <td>pt</td>\n",
       "      <td>1.0</td>\n",
       "      <td>0</td>\n",
       "    </tr>\n",
       "    <tr>\n",
       "      <th>3760</th>\n",
       "      <td>os problemas têm início a partir do momento em...</td>\n",
       "      <td>1</td>\n",
       "      <td>159</td>\n",
       "      <td>(pt, 1.0)</td>\n",
       "      <td>pt</td>\n",
       "      <td>1.0</td>\n",
       "      <td>0</td>\n",
       "    </tr>\n",
       "    <tr>\n",
       "      <th>4173</th>\n",
       "      <td>É uma pena que , mais tarde , o próprio filme ...</td>\n",
       "      <td>1</td>\n",
       "      <td>131</td>\n",
       "      <td>(pt, 0.9999999999997031)</td>\n",
       "      <td>pt</td>\n",
       "      <td>1.0</td>\n",
       "      <td>0</td>\n",
       "    </tr>\n",
       "  </tbody>\n",
       "</table>\n",
       "</div>"
      ],
      "text/plain": [
       "                                                   text  label  len  \\\n",
       "3297  o Último suspeito ganha força ao também funcio...      1   97   \n",
       "3760  os problemas têm início a partir do momento em...      1  159   \n",
       "4173  É uma pena que , mais tarde , o próprio filme ...      1  131   \n",
       "\n",
       "                          lang lang_id  lang_proba  is_eng  \n",
       "3297                 (pt, 1.0)      pt         1.0       0  \n",
       "3760                 (pt, 1.0)      pt         1.0       0  \n",
       "4173  (pt, 0.9999999999997031)      pt         1.0       0  "
      ]
     },
     "execution_count": 109,
     "metadata": {},
     "output_type": "execute_result"
    }
   ],
   "source": [
    "print(\"there are almost no uppercase chars - only 3 examples, all non english\")\n",
    "train_df[train_df[\"text\"].apply(lambda x: sum([char.isupper() for char in x])) > 0]"
   ]
  },
  {
   "cell_type": "markdown",
   "metadata": {},
   "source": [
    "#### Looking for errors/mislabeled examples"
   ]
  },
  {
   "cell_type": "code",
   "execution_count": null,
   "metadata": {},
   "outputs": [],
   "source": [
    "# TODO: continue with that"
   ]
  },
  {
   "cell_type": "code",
   "execution_count": 17,
   "metadata": {},
   "outputs": [],
   "source": [
    "sentiment_pipeline = pipeline(\"sentiment-analysis\", \"distilbert-base-uncased-finetuned-sst-2-english\")"
   ]
  },
  {
   "cell_type": "code",
   "execution_count": 18,
   "metadata": {},
   "outputs": [],
   "source": [
    "scores = sentiment_pipeline(train_df[\"text\"].tolist())"
   ]
  },
  {
   "cell_type": "code",
   "execution_count": 23,
   "metadata": {},
   "outputs": [],
   "source": [
    "train_df[\"distilbert_label\"] = [i[\"label\"] for i in scores]\n",
    "train_df[\"distilbert_score\"] = [i[\"score\"] for i in scores]"
   ]
  },
  {
   "cell_type": "code",
   "execution_count": 26,
   "metadata": {},
   "outputs": [],
   "source": [
    "train_df['distilbert_label'] = train_df['distilbert_label'].map({\"POSITIVE\": 1, \"NEGATIVE\": 0})"
   ]
  },
  {
   "cell_type": "code",
   "execution_count": 29,
   "metadata": {},
   "outputs": [],
   "source": [
    "diffs_in_labels = train_df[train_df['label']!=train_df['distilbert_label']].copy()"
   ]
  },
  {
   "cell_type": "code",
   "execution_count": 37,
   "metadata": {},
   "outputs": [
    {
     "name": "stdout",
     "output_type": "stream",
     "text": [
      "distilbert says negative, dataset says positive\n",
      "some sentences are definitely 'one fly in the oinment' type of situation, other are hard to assess, there are no blatant mistakes visible\n"
     ]
    },
    {
     "data": {
      "text/plain": [
       "array([\"the paradiso's rusted-out ruin and ultimate collapse during the film's final ( restored ) third\\x85emotionally belittle a cinema classic . sometimes shorter is better .\",\n",
       "       'baran is shockingly devoid of your typical majid majidi shoe-loving , crippled children .',\n",
       "       \"' . . . the film's considered approach to its subject matter is too calm and thoughtful for agitprop , and the thinness of its characterizations makes it a failure as straight drama . '\",\n",
       "       'solondz is so intent on hammering home his message that he forgets to make it entertaining .',\n",
       "       'just another fish-out-of-water story that barely stays afloat .',\n",
       "       \"it's a strange film , one that was hard for me to warm up to .\",\n",
       "       'a decided lack of spontaneity in its execution and a dearth of real poignancy in its epiphanies .',\n",
       "       \"the film doesn't sustain its initial promise with a jarring , new-agey tone creeping into the second half\",\n",
       "       \"for a film that's being advertised as a comedy , sweet home alabama isn't as funny as you'd hoped . for a film that's being advertised as a comedy , sweet home alabama isn't as funny as you'd hoped .\",\n",
       "       'even bigger and more ambitious than the first installment , spy kids 2 looks as if it were made by a highly gifted 12-year-old instead of a grown man .'],\n",
       "      dtype=object)"
      ]
     },
     "execution_count": 37,
     "metadata": {},
     "output_type": "execute_result"
    }
   ],
   "source": [
    "print(\"distilbert says negative, dataset says positive\")\n",
    "print(\"some sentences are definitely 'one fly in the oinment' type of situation, other are hard to assess, there are no blatant mistakes visible\")\n",
    "diffs_in_labels[diffs_in_labels[\"distilbert_label\"]==0].sort_values(by='distilbert_score', ascending=False).head(10)[\"text\"].values"
   ]
  },
  {
   "cell_type": "code",
   "execution_count": 40,
   "metadata": {},
   "outputs": [
    {
     "name": "stdout",
     "output_type": "stream",
     "text": [
      "Again, we can infer that some of these are are only strong points in otherwise negative review, some require some sarcasm detection abilities (graffiti bridge). There are no visible mistakes on dataset's part\n"
     ]
    },
    {
     "data": {
      "text/plain": [
       "array(['[at least] moore is a real charmer .',\n",
       "       \"it's the funniest american comedy since graffiti bridge .\",\n",
       "       \"at least it's a fairly impressive debut from the director , charles stone iii .\",\n",
       "       \"even if you feel like you've seen this movie a thousand times before , it is kind of enjoyable thanks mainly to belushi's easy-going likableness .\",\n",
       "       \"it's refreshing that someone understands the need for the bad boy ; diesel , with his brawny frame and cool , composed delivery , fits the bill perfectly .\",\n",
       "       \"on the bright side , it contains jesse ventura's best work since the xfl .\",\n",
       "       'the filmmakers know how to please the eye , but it is not always the prettiest pictures that tell the best story .',\n",
       "       'a quaint , romanticized rendering .',\n",
       "       'the cast is uniformly excellent . . . but the film itself is merely mildly charming .',\n",
       "       'the film takes the materials of human tragedy and dresses them in lovely costumes , southern california locations and star power .'],\n",
       "      dtype=object)"
      ]
     },
     "execution_count": 40,
     "metadata": {},
     "output_type": "execute_result"
    }
   ],
   "source": [
    "print(\"Again, we can infer that some of these are are only strong points in otherwise negative review, some require some sarcasm detection abilities (graffiti bridge). There are no visible mistakes on dataset's part\")\n",
    "diffs_in_labels[diffs_in_labels[\"distilbert_label\"]==1].sort_values(by='distilbert_score', ascending=False).head(10)[\"text\"].values"
   ]
  },
  {
   "cell_type": "markdown",
   "metadata": {},
   "source": [
    "Two cells above indicate that even though the task of sentiment analysis seems pretty straightforward, this dataset is non trivial task as there are sentences that \n",
    "\n",
    "    - without context, are challenging even for a human\n",
    "\n",
    "    - require additional knowledge of cinema\n",
    "\n",
    "    - require sense of humour/sarcasm\n",
    "\n",
    "    - require sensing that some sentences, even though they seem to be positive/negative are just \n",
    "    reviewer's trials of finding positive/negative aspects of otherwise bad/good movies.\n",
    "    \n",
    "    - contain advanced metaphors (\"spy kids 2 looks as if it were made by a highly gifted 12-year-old instead of a grown man\")"
   ]
  }
 ],
 "metadata": {
  "kernelspec": {
   "display_name": ".venv",
   "language": "python",
   "name": "python3"
  },
  "language_info": {
   "codemirror_mode": {
    "name": "ipython",
    "version": 3
   },
   "file_extension": ".py",
   "mimetype": "text/x-python",
   "name": "python",
   "nbconvert_exporter": "python",
   "pygments_lexer": "ipython3",
   "version": "3.11.2"
  }
 },
 "nbformat": 4,
 "nbformat_minor": 2
}
