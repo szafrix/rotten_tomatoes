{
 "cells": [
  {
   "cell_type": "code",
   "execution_count": 2,
   "metadata": {},
   "outputs": [
    {
     "name": "stderr",
     "output_type": "stream",
     "text": [
      "/home/bszafranski/projects/private/rotten_masked/.venv/lib/python3.11/site-packages/tqdm/auto.py:21: TqdmWarning: IProgress not found. Please update jupyter and ipywidgets. See https://ipywidgets.readthedocs.io/en/stable/user_install.html\n",
      "  from .autonotebook import tqdm as notebook_tqdm\n"
     ]
    }
   ],
   "source": [
    "from datasets import load_dataset, DatasetDict, Dataset, concatenate_datasets\n",
    "from transformers import AutoTokenizer, DataCollatorWithPadding\n",
    "from lightning import LightningDataModule\n",
    "from torch.utils.data import DataLoader\n",
    "import pandas as pd"
   ]
  },
  {
   "cell_type": "code",
   "execution_count": 3,
   "metadata": {},
   "outputs": [],
   "source": [
    "from datasets import load_dataset, DatasetDict, Dataset, concatenate_datasets\n",
    "from transformers import AutoTokenizer, DataCollatorWithPadding\n",
    "from lightning import LightningDataModule\n",
    "from torch.utils.data import DataLoader\n",
    "import pandas as pd\n",
    "\n",
    "class RottenDataLoaderForMaskedLM(LightningDataModule):\n",
    "    def __init__(self):\n",
    "        super().__init__()\n",
    "        self.tokenizer = AutoTokenizer.from_pretrained(\n",
    "            'bert-base-uncased', use_fast=True\n",
    "        )\n",
    "        self.data_collator = DataCollatorWithPadding(\n",
    "            tokenizer=self.tokenizer, return_tensors=\"pt\"\n",
    "        )\n",
    "\n",
    "    def prepare_data(self):\n",
    "        df_scraped = pd.read_json('../../rt_scraper/results/scraped_dataset_sans_already_present_quotes.json')\n",
    "        ds_scraped = Dataset.from_pandas(df_scraped)\n",
    "        ds_scraped = ds_scraped.remove_columns([\"__index_level_0__\"])\n",
    "        ds = ds_scraped.map(self.tokenize, batched=True)\n",
    "        ds = ds.shuffle(seed=42)\n",
    "        ds = ds.remove_columns([\"text\", \"label\", \"token_type_ids\"])\n",
    "        return ds\n",
    "\n",
    "    def tokenize(self, batch):\n",
    "        batch_tokenized = self.tokenizer(\n",
    "            batch[\"text\"],\n",
    "            padding=False,\n",
    "            truncation=False,\n",
    "        )\n",
    "        if self.tokenizer.is_fast:\n",
    "            batch_tokenized[\"word_ids\"] = [\n",
    "                batch_tokenized.word_ids(i)\n",
    "                for i in range(len(batch_tokenized[\"input_ids\"]))\n",
    "            ]\n",
    "        return batch_tokenized\n",
    "\n",
    "    def split_dataset_into_equally_sized_chunks(self, batch):\n",
    "        concatenated_batch = {k: sum(batch[k], []) for k in batch.keys()}\n",
    "        chunks = self._split_concatenated_batch_into_equal_chunks(concatenated_batch)\n",
    "        last_chunk_size = len(chunks[\"input_ids\"][-1])\n",
    "        if last_chunk_size != 128:\n",
    "            chunks = self._drop_last_chunk(chunks)\n",
    "        chunks[\"labels\"] = chunks[\"input_ids\"].copy()\n",
    "        return chunks\n",
    "\n",
    "    def _split_concatenated_batch_into_equal_chunks(self, concatenated_batch):\n",
    "        total_length = len(concatenated_batch[\"input_ids\"])\n",
    "        chunks = {\n",
    "            column: [\n",
    "                values[i : i + 128]\n",
    "                for i in range(0, total_length, 128)\n",
    "            ]\n",
    "            for column, values in concatenated_batch.items()\n",
    "        }\n",
    "        return chunks\n",
    "    \n",
    "    def _drop_last_chunk(self, chunks):\n",
    "        return {column: values[:-1] for column, values in chunks.items()}\n"
   ]
  },
  {
   "cell_type": "code",
   "execution_count": 4,
   "metadata": {},
   "outputs": [],
   "source": [
    "a = RottenDataLoaderForMaskedLM()"
   ]
  },
  {
   "cell_type": "code",
   "execution_count": 5,
   "metadata": {},
   "outputs": [
    {
     "name": "stderr",
     "output_type": "stream",
     "text": [
      "Map: 100%|██████████| 56236/56236 [00:02<00:00, 19782.30 examples/s]\n"
     ]
    }
   ],
   "source": [
    "ds = a.prepare_data()"
   ]
  },
  {
   "cell_type": "code",
   "execution_count": 6,
   "metadata": {},
   "outputs": [
    {
     "data": {
      "text/plain": [
       "130"
      ]
     },
     "execution_count": 6,
     "metadata": {},
     "output_type": "execute_result"
    }
   ],
   "source": [
    "len([256, 256, 256, 256, 256, 256, 256, 256, 256, 256, 256, 256, 256, 256, 256, 256, 256, 256, 256, 256, 256, 256, 256, 256, 256, 256, 256, 256, 256, 256, 256, 256, 256, 256, 256, 256, 256, 256, 256, 256, 256, 256, 256, 256, 256, 256, 256, 256, 256, 256, 256, 256, 256, 256, 256, 256, 256, 256, 256, 256, 256, 256, 256, 256, 256, 256, 256, 256, 256, 256, 256, 256, 256, 256, 256, 256, 256, 256, 256, 256, 256, 256, 256, 256, 256, 256, 256, 256, 256, 256, 256, 256, 256, 256, 256, 256, 256, 256, 256, 256, 256, 256, 256, 256, 256, 256, 256, 256, 256, 256, 256, 256, 256, 256, 256, 256, 256, 256, 256, 256, 256, 256, 256, 256, 256, 256, 256, 256, 256, 64])"
   ]
  },
  {
   "cell_type": "code",
   "execution_count": 7,
   "metadata": {},
   "outputs": [
    {
     "name": "stderr",
     "output_type": "stream",
     "text": [
      "Map:   0%|          | 0/56236 [00:00<?, ? examples/s]"
     ]
    },
    {
     "name": "stderr",
     "output_type": "stream",
     "text": [
      "Map: 100%|██████████| 56236/56236 [00:10<00:00, 5367.83 examples/s]\n"
     ]
    }
   ],
   "source": [
    "c = ds.map(a.split_dataset_into_equally_sized_chunks, batched=True)"
   ]
  },
  {
   "cell_type": "code",
   "execution_count": 8,
   "metadata": {},
   "outputs": [
    {
     "data": {
      "text/plain": [
       "DatasetDict({\n",
       "    train: Dataset({\n",
       "        features: ['input_ids', 'attention_mask', 'word_ids', 'labels'],\n",
       "        num_rows: 13392\n",
       "    })\n",
       "    test: Dataset({\n",
       "        features: ['input_ids', 'attention_mask', 'word_ids', 'labels'],\n",
       "        num_rows: 1009\n",
       "    })\n",
       "})"
      ]
     },
     "execution_count": 8,
     "metadata": {},
     "output_type": "execute_result"
    }
   ],
   "source": [
    "c.train_test_split(train_size=0.93, seed=42)"
   ]
  },
  {
   "cell_type": "code",
   "execution_count": 9,
   "metadata": {},
   "outputs": [],
   "source": [
    "from transformers import (\n",
    "    AutoTokenizer,\n",
    "    DataCollatorWithPadding,\n",
    "    DataCollatorForLanguageModeling,\n",
    ")"
   ]
  },
  {
   "cell_type": "code",
   "execution_count": 10,
   "metadata": {},
   "outputs": [],
   "source": [
    "data_collator = DataCollatorForLanguageModeling(\n",
    "            tokenizer=a.tokenizer,\n",
    "            mlm_probability=0.2,\n",
    "            return_tensors=\"pt\",\n",
    "        )"
   ]
  },
  {
   "cell_type": "code",
   "execution_count": 11,
   "metadata": {},
   "outputs": [],
   "source": [
    "samples = [c[i] for i in range(5)]\n",
    "for sample in samples:\n",
    "    _ = sample.pop(\"word_ids\")"
   ]
  },
  {
   "cell_type": "code",
   "execution_count": 12,
   "metadata": {},
   "outputs": [
    {
     "ename": "NameError",
     "evalue": "name 'tokenizer' is not defined",
     "output_type": "error",
     "traceback": [
      "\u001b[0;31m---------------------------------------------------------------------------\u001b[0m",
      "\u001b[0;31mNameError\u001b[0m                                 Traceback (most recent call last)",
      "Cell \u001b[0;32mIn[12], line 2\u001b[0m\n\u001b[1;32m      1\u001b[0m \u001b[38;5;28;01mfor\u001b[39;00m chunk \u001b[38;5;129;01min\u001b[39;00m data_collator(samples)[\u001b[38;5;124m\"\u001b[39m\u001b[38;5;124minput_ids\u001b[39m\u001b[38;5;124m\"\u001b[39m]:\n\u001b[0;32m----> 2\u001b[0m     \u001b[38;5;28mprint\u001b[39m(\u001b[38;5;124mf\u001b[39m\u001b[38;5;124m\"\u001b[39m\u001b[38;5;130;01m\\n\u001b[39;00m\u001b[38;5;124m'\u001b[39m\u001b[38;5;124m>>> \u001b[39m\u001b[38;5;132;01m{\u001b[39;00m\u001b[43mtokenizer\u001b[49m\u001b[38;5;241m.\u001b[39mdecode(chunk)\u001b[38;5;132;01m}\u001b[39;00m\u001b[38;5;124m'\u001b[39m\u001b[38;5;124m\"\u001b[39m)\n",
      "\u001b[0;31mNameError\u001b[0m: name 'tokenizer' is not defined"
     ]
    }
   ],
   "source": [
    "\n",
    "for chunk in data_collator(samples)[\"input_ids\"]:\n",
    "    print(f\"\\n'>>> {tokenizer.decode(chunk)}'\")"
   ]
  },
  {
   "cell_type": "code",
   "execution_count": null,
   "metadata": {},
   "outputs": [
    {
     "data": {
      "text/plain": [
       "[256,\n",
       " 256,\n",
       " 256,\n",
       " 256,\n",
       " 256,\n",
       " 256,\n",
       " 256,\n",
       " 256,\n",
       " 256,\n",
       " 256,\n",
       " 256,\n",
       " 256,\n",
       " 256,\n",
       " 256,\n",
       " 256,\n",
       " 256,\n",
       " 256,\n",
       " 256,\n",
       " 256,\n",
       " 256,\n",
       " 256,\n",
       " 256,\n",
       " 256,\n",
       " 256,\n",
       " 256,\n",
       " 256,\n",
       " 256,\n",
       " 256,\n",
       " 256,\n",
       " 256,\n",
       " 256,\n",
       " 256,\n",
       " 256]"
      ]
     },
     "execution_count": 52,
     "metadata": {},
     "output_type": "execute_result"
    }
   ],
   "source": [
    "[len(i) for i in {column: values[:-1] for column, values in c.items()}[\"attention_mask\"]]"
   ]
  },
  {
   "cell_type": "code",
   "execution_count": null,
   "metadata": {},
   "outputs": [],
   "source": [
    "import torch\n",
    "from transformers import AutoModelForMaskedLM, AdamW\n",
    "\n",
    "\n",
    "class RottenTomatoesDomainAdaptationModel(torch.nn.Module):\n",
    "    def __init__(self):\n",
    "        super().__init__()\n",
    "        self.model = AutoModelForMaskedLM.from_pretrained(\n",
    "           \"bert-base-uncased\"\n",
    "        )\n",
    "\n",
    "    def __name__(self):\n",
    "        return 'aaa'\n",
    "\n",
    "    def forward(self, x):\n",
    "        output = self.model(\n",
    "            **{\n",
    "                k: v\n",
    "                for k, v in x.items()\n",
    "                if k in [\"input_ids\", \"attention_mask\", \"labels\"]\n",
    "            }\n",
    "        )\n",
    "        return output\n"
   ]
  },
  {
   "cell_type": "code",
   "execution_count": null,
   "metadata": {},
   "outputs": [
    {
     "name": "stderr",
     "output_type": "stream",
     "text": [
      "Some weights of the model checkpoint at bert-base-uncased were not used when initializing BertForMaskedLM: ['bert.pooler.dense.bias', 'bert.pooler.dense.weight', 'cls.seq_relationship.bias', 'cls.seq_relationship.weight']\n",
      "- This IS expected if you are initializing BertForMaskedLM from the checkpoint of a model trained on another task or with another architecture (e.g. initializing a BertForSequenceClassification model from a BertForPreTraining model).\n",
      "- This IS NOT expected if you are initializing BertForMaskedLM from the checkpoint of a model that you expect to be exactly identical (initializing a BertForSequenceClassification model from a BertForSequenceClassification model).\n"
     ]
    }
   ],
   "source": [
    "model = RottenTomatoesDomainAdaptationModel()"
   ]
  },
  {
   "cell_type": "code",
   "execution_count": 111,
   "metadata": {},
   "outputs": [],
   "source": [
    "z = data_collator(samples)"
   ]
  },
  {
   "cell_type": "code",
   "execution_count": 114,
   "metadata": {},
   "outputs": [
    {
     "data": {
      "text/plain": [
       "'[CLS] the weakening takes a silly idea and somehow makes [MASK] work, helped [MASK] by the fact that [MASK] has got buckets of [MASK] [MASK] [SEP] [CLS] [MASK] has a rather dull [MASK], with [MASK] focus on [MASK]lip economics in the [MASK] century. [SEP] [CLS] richard jenkins is [MASK] [MASK]sm [MASK] [MASK] presence in the film. [SEP] [CLS] [MASK] animation is [MASK], the direction is limited, in all respects, by imitating [MASK] blockbusters, and the cultural [MASK] are so outdated that they [MASK] embarrassing [MASK] [ fulldal in spanish ] [SEP] [CLS] this movie was not [MASK] a movie. [SEP] [CLS] the production and attention to [MASK] here is [MASK] level [MASK].'"
      ]
     },
     "execution_count": 114,
     "metadata": {},
     "output_type": "execute_result"
    }
   ],
   "source": [
    "tokenizer.decode(z[\"input_ids\"][0])"
   ]
  },
  {
   "cell_type": "code",
   "execution_count": 117,
   "metadata": {},
   "outputs": [
    {
     "data": {
      "text/plain": [
       "'[MASK]'"
      ]
     },
     "execution_count": 117,
     "metadata": {},
     "output_type": "execute_result"
    }
   ],
   "source": [
    "tokenizer.decode([103])"
   ]
  },
  {
   "cell_type": "code",
   "execution_count": 115,
   "metadata": {},
   "outputs": [
    {
     "data": {
      "text/plain": [
       "tensor([  101,  1996, 22031,  3138,  1037, 10021,  2801,  1998,  5064,  3084,\n",
       "          103,  2147,  1010,  3271,   103,  2011,  1996,  2755,  2008,   103,\n",
       "         2038,  2288, 13610,  2015,  1997,   103,   103,   102,   101,   103,\n",
       "         2038,  1037,  2738, 10634,   103,  1010,  2007,   103,  3579,  2006,\n",
       "          103, 15000,  5543,  1999,  1996,   103,  2301,  1012,   102,   101,\n",
       "         2957, 11098,  2003,   103,   103,  6491,   103,   103,  3739,  1999,\n",
       "         1996,  2143,  1012,   102,   101,   103,  7284,  2003,   103,  1010,\n",
       "         1996,  3257,  2003,  3132,  1010,  1999,  2035, 17475,  1010,  2011,\n",
       "        10047, 16518,   103, 27858,  2015,  1010,  1998,  1996,  3451,   103,\n",
       "         2024,  2061, 25963,  2008,  2027,   103, 16436,   103,  1031,  2440,\n",
       "         9305,  1999,  3009,  1033,   102,   101,  2023,  3185,  2001,  2025,\n",
       "          103,  1037,  3185,  1012,   102,   101,  1996,  2537,  1998,  3086,\n",
       "         2000,   103,  2182,  2003,   103,  2504,   103,  1012])"
      ]
     },
     "execution_count": 115,
     "metadata": {},
     "output_type": "execute_result"
    }
   ],
   "source": [
    "z[\"input_ids\"][0]"
   ]
  },
  {
   "cell_type": "code",
   "execution_count": 1,
   "metadata": {},
   "outputs": [
    {
     "ename": "NameError",
     "evalue": "name 'z' is not defined",
     "output_type": "error",
     "traceback": [
      "\u001b[0;31m---------------------------------------------------------------------------\u001b[0m",
      "\u001b[0;31mNameError\u001b[0m                                 Traceback (most recent call last)",
      "Cell \u001b[0;32mIn[1], line 1\u001b[0m\n\u001b[0;32m----> 1\u001b[0m \u001b[43mz\u001b[49m\n",
      "\u001b[0;31mNameError\u001b[0m: name 'z' is not defined"
     ]
    }
   ],
   "source": [
    "z"
   ]
  },
  {
   "cell_type": "code",
   "execution_count": 118,
   "metadata": {},
   "outputs": [],
   "source": [
    "x = model(z)"
   ]
  },
  {
   "cell_type": "code",
   "execution_count": 124,
   "metadata": {},
   "outputs": [
    {
     "data": {
      "text/plain": [
       "tensor([[ -6.6232,  -6.5818,  -6.5687,  ...,  -5.9188,  -5.7877,  -3.8888],\n",
       "        [-10.6456, -10.4020, -10.6074,  ...,  -9.2321,  -8.5568,  -8.0614],\n",
       "        [ -5.7107,  -5.6532,  -5.8286,  ...,  -4.9614,  -4.6639,  -6.0913],\n",
       "        ...,\n",
       "        [ -5.0434,  -5.0274,  -4.9778,  ...,  -5.1552,  -4.5794,  -2.8990],\n",
       "        [ -5.0337,  -5.0674,  -5.0946,  ...,  -3.6746,  -5.0193,  -4.1733],\n",
       "        [-14.1275, -13.4685, -14.0399,  ..., -10.8737, -11.4878,  -8.4017]],\n",
       "       grad_fn=<SelectBackward0>)"
      ]
     },
     "execution_count": 124,
     "metadata": {},
     "output_type": "execute_result"
    }
   ],
   "source": [
    "x.logits[0]"
   ]
  },
  {
   "cell_type": "code",
   "execution_count": 130,
   "metadata": {},
   "outputs": [
    {
     "data": {
      "text/plain": [
       "tensor([[ -100,  -100,  5472,  -100,  -100,  -100,  -100,  -100,  -100,  -100,\n",
       "          2009,  -100,  -100,  -100,  6551,  -100,  -100,  -100,  -100,  2009,\n",
       "          -100,  -100, 13610,  -100,  -100, 11084,  1012,  -100,  -100,  2009,\n",
       "          -100,  -100,  2738, 10634, 18458,  -100,  -100,  1037,  -100,  -100,\n",
       "         10722,  -100,  -100,  -100,  -100,  5550,  -100,  -100,  -100,  -100,\n",
       "          -100,  -100,  -100,  1037,  2033,  -100, 11124,  6774,  3739,  -100,\n",
       "          -100,  -100,  -100,  -100,  -100,  1996,  -100,  -100, 10551,  -100,\n",
       "          -100,  -100,  -100,  -100,  -100,  -100,  -100,  -100,  -100,  -100,\n",
       "          -100,  -100,  3025,  -100,  -100,  -100,  -100,  -100,  -100,  7604,\n",
       "          -100,  -100,  -100,  -100,  -100,  2024,  -100,  1012,  -100,  -100,\n",
       "          3319,  -100,  -100,  -100,  -100,  -100,  -100,  -100,  -100,  -100,\n",
       "          2130,  -100,  -100,  -100,  -100,  -100,  -100,  -100,  -100,  -100,\n",
       "          -100,  6987,  -100,  -100,  2279,  -100,  1012,  -100],\n",
       "        [ -100,  -100,  -100,  -100,  -100,  -100,  2143,  2003,  -100,  -100,\n",
       "          2050,  1011,  -100,  -100,  3046,  -100,  -100,  -100,  -100,  -100,\n",
       "          -100,  -100,  -100,  -100,  -100,  -100,  3185,  1012,  -100,  -100,\n",
       "          -100,  3595,  -100,  -100, 18551,  -100,  -100,  -100,  -100,  -100,\n",
       "          -100,  -100,  -100,  -100,  1998,  -100,  -100,  -100,  -100,  -100,\n",
       "          -100,  2005,  -100,  -100,  -100,  -100,  -100,  -100,  4275,  -100,\n",
       "          2031,  -100,  -100,  -100,  2594,  -100,  -100,  -100,  -100,  1996,\n",
       "          3320,  -100,  -100,  -100,  -100,  -100,  -100,  -100,  -100,  -100,\n",
       "          -100,  -100,  -100,  2520,  -100,  -100,  2003,  -100,  -100,  -100,\n",
       "          1998,  -100,  -100,  1996,  4569,  -100,  -100,  2023,  -100,  -100,\n",
       "          -100,  -100,  -100,  -100,  -100,  9202,  -100,  -100,  -100,  -100,\n",
       "          -100,  -100,  -100,  -100,  -100,  -100,  -100,  -100,  -100,  -100,\n",
       "          -100,  -100,  -100,  -100, 16481,  2000,  -100,  1037],\n",
       "        [ -100,  4438,  1012,  -100,  -100,  -100,  -100,  -100,  -100,  -100,\n",
       "          -100,  -100,  -100,  -100,  -100,  -100,  -100,  -100,  -100,  -100,\n",
       "          -100,  -100,  -100,  -100,  -100,  -100,  2019,  -100,  -100,  -100,\n",
       "          -100,  -100,  -100,  -100,  -100,  2023,  -100,  -100,  -100,  -100,\n",
       "          -100,  -100,  -100, 16022,  2100,  -100, 10889,  -100,  -100,  -100,\n",
       "          -100,  4101,  -100,  -100,  -100,  -100,  -100,  -100,  -100,  -100,\n",
       "          -100,  -100,  2210,  -100,  -100,  2009,  -100,  -100,  -100,  -100,\n",
       "          -100,  2005,  -100,  2087,  2112,  -100,  -100,  -100,  1996,  -100,\n",
       "         17087,  -100,  -100,  -100,  2387,  -100,  -100,  -100,  -100,  -100,\n",
       "          -100,  -100,  -100,  -100,  -100,  -100,  -100,  -100,  -100,  -100,\n",
       "          -100,  -100,  3557,  -100,  -100,  -100,  -100,  -100,  -100,  -100,\n",
       "          -100,  -100,  -100,  -100,  -100,  -100,  -100,  -100,  1012,  -100,\n",
       "          -100,  -100,  -100,  -100,  -100,  -100,  1996,  -100],\n",
       "        [ -100,  -100,  -100,  -100,  -100,  -100,  -100,  1010,  -100,  -100,\n",
       "         14036,  -100,  -100,  -100,  -100,  -100,  -100,  -100,  -100,  -100,\n",
       "          -100,  -100,  -100,  -100,  -100,  -100,  -100,  -100,  -100,  -100,\n",
       "          -100,  -100,  -100,  -100,  -100,  -100,  -100,  -100,  -100,  -100,\n",
       "          -100,  -100,  2158,  -100,  -100,  -100,  -100,  -100,  -100,  -100,\n",
       "          -100,  -100,  -100,  -100,  -100,  -100,  -100,  -100,  -100,  2019,\n",
       "          -100,  -100,  -100, 19275,  -100,  2008,  1005,  -100, 11633,  -100,\n",
       "          -100,  -100,  -100,  -100,  -100,  -100,  -100,  2166,  -100,  -100,\n",
       "          -100,  -100,  -100, 10047, 16862,  -100,  -100,  -100,  -100,  -100,\n",
       "          -100,  -100,  -100,  -100,  2017, 14750,  -100,  2062,  1012,  -100,\n",
       "          -100,  -100, 23824,  -100,  -100, 17070,  -100,  -100,  -100,  -100,\n",
       "          -100,  -100,  1010,  2021,  -100,  -100,  -100,  -100,  -100,  -100,\n",
       "          -100,  -100,  -100, 13130,  -100,  -100,  -100,  -100],\n",
       "        [ -100,  1005,  1055,  -100,  -100,  -100,  -100,  -100,  -100,  -100,\n",
       "          -100,  -100,  -100,  -100,  -100,  -100,  -100,  -100,  -100,  1000,\n",
       "          1037,  -100,  -100,  -100,  -100,  -100,  -100,  -100,  2657,  -100,\n",
       "          -100,  -100,  -100,  -100,  -100,  -100,  -100,  -100,  -100,  -100,\n",
       "          -100,  -100,  -100,  -100,  -100,  1055,  -100,  -100,  -100,  -100,\n",
       "         12473,  -100,  -100,  -100,  -100,  -100,  1998,  -100,  -100,  -100,\n",
       "          1998,  -100,  -100,  -100,  -100,  -100,  -100,  -100,  1011,  -100,\n",
       "          2732,  -100,  -100,  2069,  -100,  -100,  -100,  -100,  -100,  -100,\n",
       "          -100,  -100,  -100,  -100,  -100,  -100,  -100,  -100,  -100,  -100,\n",
       "          1997,  -100,  5436,  -100,  1998,  2026,  3037,  -100,  -100,  -100,\n",
       "          -100,  -100,  -100,  -100,  -100,  -100,  -100,  -100,  1996,  -100,\n",
       "          -100,  -100,  -100,  -100,  -100,  -100,  -100,  -100,  -100,  -100,\n",
       "          -100,  -100,  -100,  1010,  -100,  1996,  8801,  -100]])"
      ]
     },
     "execution_count": 130,
     "metadata": {},
     "output_type": "execute_result"
    }
   ],
   "source": [
    "z[\"labels\"]"
   ]
  },
  {
   "cell_type": "code",
   "execution_count": 126,
   "metadata": {},
   "outputs": [
    {
     "data": {
      "text/plain": [
       "torch.Size([5, 128])"
      ]
     },
     "execution_count": 126,
     "metadata": {},
     "output_type": "execute_result"
    }
   ],
   "source": [
    "z['input_ids'].shape"
   ]
  }
 ],
 "metadata": {
  "kernelspec": {
   "display_name": ".venv",
   "language": "python",
   "name": "python3"
  },
  "language_info": {
   "codemirror_mode": {
    "name": "ipython",
    "version": 3
   },
   "file_extension": ".py",
   "mimetype": "text/x-python",
   "name": "python",
   "nbconvert_exporter": "python",
   "pygments_lexer": "ipython3",
   "version": "3.11.2"
  }
 },
 "nbformat": 4,
 "nbformat_minor": 2
}
